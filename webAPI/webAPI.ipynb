{
 "metadata": {
  "language_info": {
   "codemirror_mode": {
    "name": "ipython",
    "version": 3
   },
   "file_extension": ".py",
   "mimetype": "text/x-python",
   "name": "python",
   "nbconvert_exporter": "python",
   "pygments_lexer": "ipython3",
   "version": "3.8.3"
  },
  "orig_nbformat": 2,
  "kernelspec": {
   "name": "python383jvsc74a57bd0516186bd0ec0d9f4d5315d95f88038d756540a3a2a2ced092e94dc29fedad10e",
   "display_name": "Python 3.8.3 64-bit ('base': conda)"
  }
 },
 "nbformat": 4,
 "nbformat_minor": 2,
 "cells": [
  {
   "cell_type": "code",
   "execution_count": 19,
   "metadata": {},
   "outputs": [],
   "source": [
    "import requests \n",
    "import json\n",
    "import pandas as pd"
   ]
  },
  {
   "source": [
    "200 – everything went okay, and the result has been returned (if any)\n",
    "\n",
    "• 301 – the server is redirecting you to a different endpoint. This can happen\n",
    "when a company switches domain names, or an endpoint name is changed.\n",
    "\n",
    "• 401 – the server thinks you’re not authenticated. This happens when you\n",
    "don’t send the right credentials to access an API.\n",
    "\n",
    "• 400 – the server thinks you made a bad request. This can happen when you\n",
    "don’t send along the right data, among other things.\n",
    "\n",
    "• 403 – the resource you’re trying to access is forbidden – you don’t have the\n",
    "right permissions to see it.\n",
    "\n",
    "• 404 – the resource you tried to access wasn’t found on the server"
   ],
   "cell_type": "markdown",
   "metadata": {}
  },
  {
   "cell_type": "code",
   "execution_count": 2,
   "metadata": {},
   "outputs": [
    {
     "output_type": "stream",
     "name": "stdout",
     "text": [
      "200\n"
     ]
    }
   ],
   "source": [
    "response = requests.get(\"https://api.randomuser.me/\")\n",
    "print(response.status_code)\n"
   ]
  },
  {
   "cell_type": "code",
   "execution_count": 3,
   "metadata": {},
   "outputs": [],
   "source": [
    "params = {\"results\": 5, \"gender\": \"male\", \"nat\":\"US\"}"
   ]
  },
  {
   "cell_type": "code",
   "execution_count": 4,
   "metadata": {},
   "outputs": [
    {
     "output_type": "execute_result",
     "data": {
      "text/plain": [
       "'{\"results\":[{\"gender\":\"male\",\"name\":{\"title\":\"Mr\",\"first\":\"Gregory\",\"last\":\"Watson\"},\"location\":{\"street\":{\"number\":1503,\"name\":\"Marsh Ln\"},\"city\":\"Elizabeth\",\"state\":\"Florida\",\"country\":\"United States\",\"postcode\":19247,\"coordinates\":{\"latitude\":\"46.4857\",\"longitude\":\"-37.8745\"},\"timezone\":{\"offset\":\"-10:00\",\"description\":\"Hawaii\"}},\"email\":\"gregory.watson@example.com\",\"login\":{\"uuid\":\"f1274216-0b9f-42cc-88cb-0ab1bbbe7057\",\"username\":\"lazyrabbit767\",\"password\":\"rivers\",\"salt\":\"AdTL7lWX\",\"md5\":\"0569364cd755ed13d6ee17e8e7677863\",\"sha1\":\"e5eed69bcd5bd8e04221f4d3a763640ae54dea20\",\"sha256\":\"a6bcd0cc1b4d904f483cc87496a932564711584bcf46cf57fcf213f004236e88\"},\"dob\":{\"date\":\"1947-04-24T03:03:22.955Z\",\"age\":74},\"registered\":{\"date\":\"2013-08-05T00:12:56.950Z\",\"age\":8},\"phone\":\"(066)-694-0341\",\"cell\":\"(119)-249-2033\",\"id\":{\"name\":\"SSN\",\"value\":\"747-67-4239\"},\"picture\":{\"large\":\"https://randomuser.me/api/portraits/men/70.jpg\",\"medium\":\"https://randomuser.me/api/portraits/med/men/70.jpg\",\"thumbnail\":\"https://randomuser.me/api/portraits/thumb/men/70.jpg\"},\"nat\":\"US\"},{\"gender\":\"male\",\"name\":{\"title\":\"Mr\",\"first\":\"Julian\",\"last\":\"Newman\"},\"location\":{\"street\":{\"number\":2452,\"name\":\"Mockingbird Ln\"},\"city\":\"Aubrey\",\"state\":\"Hawaii\",\"country\":\"United States\",\"postcode\":64789,\"coordinates\":{\"latitude\":\"-61.6372\",\"longitude\":\"-140.6982\"},\"timezone\":{\"offset\":\"+5:45\",\"description\":\"Kathmandu\"}},\"email\":\"julian.newman@example.com\",\"login\":{\"uuid\":\"1f37f306-4c6b-4ab7-b6ee-8ab380396a45\",\"username\":\"brownpanda483\",\"password\":\"doggies\",\"salt\":\"yMswx3EA\",\"md5\":\"6e47d3d9beb82a67ac769eb030867631\",\"sha1\":\"058cb2fc19e0b932aaf9404dbf419f9f30dd894a\",\"sha256\":\"0cbf8b2dfe13f023e542aed9ffdc1dc6b5ea3d57216915fb514a5051ecfa2e18\"},\"dob\":{\"date\":\"1949-04-12T10:47:50.491Z\",\"age\":72},\"registered\":{\"date\":\"2006-11-29T07:16:04.329Z\",\"age\":15},\"phone\":\"(979)-006-9511\",\"cell\":\"(586)-174-0489\",\"id\":{\"name\":\"SSN\",\"value\":\"767-25-5763\"},\"picture\":{\"large\":\"https://randomuser.me/api/portraits/men/89.jpg\",\"medium\":\"https://randomuser.me/api/portraits/med/men/89.jpg\",\"thumbnail\":\"https://randomuser.me/api/portraits/thumb/men/89.jpg\"},\"nat\":\"US\"},{\"gender\":\"male\",\"name\":{\"title\":\"Mr\",\"first\":\"Fernando\",\"last\":\"Gardner\"},\"location\":{\"street\":{\"number\":9685,\"name\":\"Parker Rd\"},\"city\":\"Portland\",\"state\":\"West Virginia\",\"country\":\"United States\",\"postcode\":86834,\"coordinates\":{\"latitude\":\"-21.4318\",\"longitude\":\"134.7674\"},\"timezone\":{\"offset\":\"+4:30\",\"description\":\"Kabul\"}},\"email\":\"fernando.gardner@example.com\",\"login\":{\"uuid\":\"7643b614-efbf-401a-a822-8da1b607deca\",\"username\":\"beautifullion506\",\"password\":\"columbus\",\"salt\":\"AfXfKU1p\",\"md5\":\"dbafde85b97b6c6d0c71c72b4c3f9b7e\",\"sha1\":\"719f24a75ce562542bfab2cb414be08eac852495\",\"sha256\":\"29b70ee54bd199f9ae89290962572da4559a79b41a4c61105061973ebc9157fb\"},\"dob\":{\"date\":\"1956-06-19T18:04:25.509Z\",\"age\":65},\"registered\":{\"date\":\"2017-01-28T14:31:15.064Z\",\"age\":4},\"phone\":\"(088)-982-7171\",\"cell\":\"(023)-279-8579\",\"id\":{\"name\":\"SSN\",\"value\":\"454-59-7801\"},\"picture\":{\"large\":\"https://randomuser.me/api/portraits/men/85.jpg\",\"medium\":\"https://randomuser.me/api/portraits/med/men/85.jpg\",\"thumbnail\":\"https://randomuser.me/api/portraits/thumb/men/85.jpg\"},\"nat\":\"US\"},{\"gender\":\"male\",\"name\":{\"title\":\"Mr\",\"first\":\"Willard\",\"last\":\"Morales\"},\"location\":{\"street\":{\"number\":5756,\"name\":\"Hickory Creek Dr\"},\"city\":\"New Haven\",\"state\":\"New Mexico\",\"country\":\"United States\",\"postcode\":72843,\"coordinates\":{\"latitude\":\"36.8666\",\"longitude\":\"-96.7317\"},\"timezone\":{\"offset\":\"-3:30\",\"description\":\"Newfoundland\"}},\"email\":\"willard.morales@example.com\",\"login\":{\"uuid\":\"99ca5054-af9b-4fd6-9c19-bd331973dd0d\",\"username\":\"beautifultiger905\",\"password\":\"trouble\",\"salt\":\"24xX0xrR\",\"md5\":\"48f5352fdc30d7f45605f8ae58cb8d88\",\"sha1\":\"0195a77d69d70c022b79b7255241d21abb248b88\",\"sha256\":\"4c4e4283025fbe95c531f63119cb8b5f829e86026871ed1dee2690030cbedf99\"},\"dob\":{\"date\":\"1992-01-29T23:08:19.770Z\",\"age\":29},\"registered\":{\"date\":\"2003-12-16T03:01:08.313Z\",\"age\":18},\"phone\":\"(038)-315-3522\",\"cell\":\"(623)-704-4382\",\"id\":{\"name\":\"SSN\",\"value\":\"389-90-6950\"},\"picture\":{\"large\":\"https://randomuser.me/api/portraits/men/1.jpg\",\"medium\":\"https://randomuser.me/api/portraits/med/men/1.jpg\",\"thumbnail\":\"https://randomuser.me/api/portraits/thumb/men/1.jpg\"},\"nat\":\"US\"},{\"gender\":\"male\",\"name\":{\"title\":\"Mr\",\"first\":\"Samuel\",\"last\":\"Duncan\"},\"location\":{\"street\":{\"number\":8501,\"name\":\"Karen Dr\"},\"city\":\"South Valley\",\"state\":\"Massachusetts\",\"country\":\"United States\",\"postcode\":11222,\"coordinates\":{\"latitude\":\"67.5728\",\"longitude\":\"165.4306\"},\"timezone\":{\"offset\":\"+9:00\",\"description\":\"Tokyo, Seoul, Osaka, Sapporo, Yakutsk\"}},\"email\":\"samuel.duncan@example.com\",\"login\":{\"uuid\":\"c4c1b313-43bf-4d8b-b687-8fce034f9595\",\"username\":\"bluesnake682\",\"password\":\"smart1\",\"salt\":\"1OxRW2ic\",\"md5\":\"33ded3d20a38f5647f7c7897c804559e\",\"sha1\":\"05574cf8a57b0987c0866fe9281a2ad50d1589c6\",\"sha256\":\"b3d5e5f88ab9d5465905454e43f2355a8c819eb1108c9dee070621c236e25939\"},\"dob\":{\"date\":\"1949-06-26T22:36:36.025Z\",\"age\":72},\"registered\":{\"date\":\"2013-10-25T19:15:06.776Z\",\"age\":8},\"phone\":\"(898)-657-0736\",\"cell\":\"(180)-620-5570\",\"id\":{\"name\":\"SSN\",\"value\":\"588-29-6295\"},\"picture\":{\"large\":\"https://randomuser.me/api/portraits/men/36.jpg\",\"medium\":\"https://randomuser.me/api/portraits/med/men/36.jpg\",\"thumbnail\":\"https://randomuser.me/api/portraits/thumb/men/36.jpg\"},\"nat\":\"US\"}],\"info\":{\"seed\":\"316a0433e46022db\",\"results\":5,\"page\":1,\"version\":\"1.3\"}}'"
      ]
     },
     "metadata": {},
     "execution_count": 4
    }
   ],
   "source": [
    "response = requests.get(\"https://api.randomuser.me/\",\n",
    "params=params)\n",
    "response.text"
   ]
  },
  {
   "cell_type": "code",
   "execution_count": 5,
   "metadata": {},
   "outputs": [],
   "source": [
    "data = json.loads(response.text)"
   ]
  },
  {
   "cell_type": "code",
   "execution_count": 6,
   "metadata": {},
   "outputs": [
    {
     "output_type": "execute_result",
     "data": {
      "text/plain": [
       "dict"
      ]
     },
     "metadata": {},
     "execution_count": 6
    }
   ],
   "source": [
    "type(data)"
   ]
  },
  {
   "cell_type": "code",
   "execution_count": 7,
   "metadata": {},
   "outputs": [
    {
     "output_type": "stream",
     "name": "stdout",
     "text": [
      "User 1:   Gregory\nUser 2:   Julian\nUser 3:   Fernando\nUser 4:   Willard\nUser 5:   Samuel\n"
     ]
    }
   ],
   "source": [
    "count = 0\n",
    "for results, info in data.items():\n",
    "    for c in info:\n",
    "        count += 1\n",
    "        print(\"User {}:   {}\".format(count, c[\"name\"][\"first\"]))\n",
    "    break"
   ]
  },
  {
   "cell_type": "code",
   "execution_count": 8,
   "metadata": {},
   "outputs": [
    {
     "output_type": "execute_result",
     "data": {
      "text/plain": [
       "'{\"number\": 7, \"message\": \"success\", \"people\": [{\"name\": \"Mark Vande Hei\", \"craft\": \"ISS\"}, {\"name\": \"Oleg Novitskiy\", \"craft\": \"ISS\"}, {\"name\": \"Pyotr Dubrov\", \"craft\": \"ISS\"}, {\"name\": \"Thomas Pesquet\", \"craft\": \"ISS\"}, {\"name\": \"Megan McArthur\", \"craft\": \"ISS\"}, {\"name\": \"Shane Kimbrough\", \"craft\": \"ISS\"}, {\"name\": \"Akihiko Hoshide\", \"craft\": \"ISS\"}]}'"
      ]
     },
     "metadata": {},
     "execution_count": 8
    }
   ],
   "source": [
    "response = requests.get(\"http://api.open-notify.org/astros.json\",\n",
    "params=params)\n",
    "response.text"
   ]
  },
  {
   "cell_type": "code",
   "execution_count": 12,
   "metadata": {},
   "outputs": [
    {
     "output_type": "execute_result",
     "data": {
      "text/plain": [
       "'Mark Vande Hei'"
      ]
     },
     "metadata": {},
     "execution_count": 12
    }
   ],
   "source": [
    "space = requests.get(\"http://api.open-notify.org/astros.json\")\n",
    "space = json.loads(space.text)\n",
    "space[\"people\"][0][\"name\"]"
   ]
  },
  {
   "cell_type": "code",
   "execution_count": 13,
   "metadata": {},
   "outputs": [
    {
     "output_type": "stream",
     "name": "stdout",
     "text": [
      "Astronaut 1: Mark Vande Hei\nAstronaut 2: Oleg Novitskiy\nAstronaut 3: Pyotr Dubrov\nAstronaut 4: Thomas Pesquet\nAstronaut 5: Megan McArthur\nAstronaut 6: Shane Kimbrough\nAstronaut 7: Akihiko Hoshide\n"
     ]
    }
   ],
   "source": [
    "# print out all the names of astronauts in space and count\n",
    "count = 0\n",
    "for items in space[\"people\"]:\n",
    "    count += 1\n",
    "    print(\"Astronaut {}: {}\".format(count, items[\"name\"]))"
   ]
  },
  {
   "cell_type": "code",
   "execution_count": 14,
   "metadata": {},
   "outputs": [
    {
     "output_type": "execute_result",
     "data": {
      "text/plain": [
       "'{\"timestamp\": 1621407664, \"iss_position\": {\"latitude\": \"-49.7864\", \"longitude\": \"32.6950\"}, \"message\": \"success\"}'"
      ]
     },
     "metadata": {},
     "execution_count": 14
    }
   ],
   "source": [
    "iss_loc = requests.get(\"http://api.open-notify.org/iss-now.json\")\n",
    "iss_loc.text"
   ]
  },
  {
   "cell_type": "code",
   "execution_count": 20,
   "metadata": {},
   "outputs": [
    {
     "output_type": "error",
     "ename": "SyntaxError",
     "evalue": "invalid syntax (<ipython-input-20-5bffc17204c3>, line 2)",
     "traceback": [
      "\u001b[1;36m  File \u001b[1;32m\"<ipython-input-20-5bffc17204c3>\"\u001b[1;36m, line \u001b[1;32m2\u001b[0m\n\u001b[1;33m    lon = float(loc[\"iss_position\"][\"longitude\"])\u001b[0m\n\u001b[1;37m    ^\u001b[0m\n\u001b[1;31mSyntaxError\u001b[0m\u001b[1;31m:\u001b[0m invalid syntax\n"
     ]
    }
   ],
   "source": [
    "loc = json.loads(iss_loc.text\n",
    "lon = float(loc[\"iss_position\"][\"longitude\"])\n",
    "lat = float(loc[\"iss_position\"][\"latitude\"])\n",
    "timestamp = loc[\"timestamp\"]"
   ]
  },
  {
   "cell_type": "code",
   "execution_count": 21,
   "metadata": {},
   "outputs": [
    {
     "output_type": "error",
     "ename": "NameError",
     "evalue": "name 'time' is not defined",
     "traceback": [
      "\u001b[1;31m---------------------------------------------------------------------------\u001b[0m",
      "\u001b[1;31mNameError\u001b[0m                                 Traceback (most recent call last)",
      "\u001b[1;32m<ipython-input-21-2264a70f7cfb>\u001b[0m in \u001b[0;36m<module>\u001b[1;34m\u001b[0m\n\u001b[1;32m----> 1\u001b[1;33m \u001b[0mdatetime\u001b[0m \u001b[1;33m=\u001b[0m \u001b[0mtime\u001b[0m\u001b[1;33m.\u001b[0m\u001b[0mstrftime\u001b[0m\u001b[1;33m(\u001b[0m\u001b[1;34m\"%A, %Y-%m-%d %H:%M:%S\"\u001b[0m\u001b[1;33m,\u001b[0m \u001b[0mtime\u001b[0m\u001b[1;33m.\u001b[0m\u001b[0mlocaltime\u001b[0m\u001b[1;33m(\u001b[0m\u001b[0mtimestamp\u001b[0m\u001b[1;33m)\u001b[0m\u001b[1;33m)\u001b[0m\u001b[1;33m\u001b[0m\u001b[1;33m\u001b[0m\u001b[0m\n\u001b[0m\u001b[0;32m      2\u001b[0m \u001b[0mdatetime\u001b[0m\u001b[1;33m\u001b[0m\u001b[1;33m\u001b[0m\u001b[0m\n",
      "\u001b[1;31mNameError\u001b[0m: name 'time' is not defined"
     ]
    }
   ],
   "source": [
    "datetime = time.strftime(\"%A, %Y-%m-%d %H:%M:%S\", time.localtime(timestamp))\n",
    "datetime"
   ]
  },
  {
   "cell_type": "code",
   "execution_count": 22,
   "metadata": {},
   "outputs": [
    {
     "output_type": "error",
     "ename": "NameError",
     "evalue": "name 'lat' is not defined",
     "traceback": [
      "\u001b[1;31m---------------------------------------------------------------------------\u001b[0m",
      "\u001b[1;31mNameError\u001b[0m                                 Traceback (most recent call last)",
      "\u001b[1;32m<ipython-input-22-3ebf831f7617>\u001b[0m in \u001b[0;36m<module>\u001b[1;34m\u001b[0m\n\u001b[1;32m----> 1\u001b[1;33m \u001b[0ma\u001b[0m \u001b[1;33m=\u001b[0m \u001b[0mpd\u001b[0m\u001b[1;33m.\u001b[0m\u001b[0mDataFrame\u001b[0m\u001b[1;33m(\u001b[0m\u001b[1;33m[\u001b[0m\u001b[1;33m[\u001b[0m\u001b[0mlat\u001b[0m\u001b[1;33m,\u001b[0m \u001b[0mlon\u001b[0m\u001b[1;33m]\u001b[0m\u001b[1;33m]\u001b[0m\u001b[1;33m,\u001b[0m \u001b[0mcolumns\u001b[0m\u001b[1;33m=\u001b[0m\u001b[1;33m[\u001b[0m\u001b[1;34m\"lat\"\u001b[0m\u001b[1;33m,\u001b[0m\u001b[1;34m\"lon\"\u001b[0m\u001b[1;33m]\u001b[0m\u001b[1;33m)\u001b[0m\u001b[1;33m\u001b[0m\u001b[1;33m\u001b[0m\u001b[0m\n\u001b[0m\u001b[0;32m      2\u001b[0m \u001b[0ma\u001b[0m\u001b[1;33m\u001b[0m\u001b[1;33m\u001b[0m\u001b[0m\n",
      "\u001b[1;31mNameError\u001b[0m: name 'lat' is not defined"
     ]
    }
   ],
   "source": [
    "a = pd.DataFrame([[lat, lon]], columns=[\"lat\",\"lon\"])\n",
    "a"
   ]
  },
  {
   "cell_type": "code",
   "execution_count": null,
   "metadata": {},
   "outputs": [],
   "source": []
  },
  {
   "cell_type": "code",
   "execution_count": null,
   "metadata": {},
   "outputs": [],
   "source": []
  }
 ]
}